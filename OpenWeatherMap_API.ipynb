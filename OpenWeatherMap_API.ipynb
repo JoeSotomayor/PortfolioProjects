{
  "nbformat": 4,
  "nbformat_minor": 0,
  "metadata": {
    "colab": {
      "provenance": [],
      "authorship_tag": "ABX9TyNY82472EJWJPV8sa4qTyBn",
      "include_colab_link": true
    },
    "kernelspec": {
      "name": "python3",
      "display_name": "Python 3"
    },
    "language_info": {
      "name": "python"
    }
  },
  "cells": [
    {
      "cell_type": "markdown",
      "metadata": {
        "id": "view-in-github",
        "colab_type": "text"
      },
      "source": [
        "<a href=\"https://colab.research.google.com/github/JoeSotomayor/PortfolioProjects/blob/main/OpenWeatherMap_API.ipynb\" target=\"_parent\"><img src=\"https://colab.research.google.com/assets/colab-badge.svg\" alt=\"Open In Colab\"/></a>"
      ]
    },
    {
      "cell_type": "code",
      "source": [
        "import requests \n",
        "from pprint import pprint\n",
        "\n",
        "city = input('Enter your city : ')\n",
        "\n",
        "url = 'http://api.openweathermap.org/data/2.5/weather?q={}&appid=d0522b54466607e9062dc18f567385b1&units=metric'.format(city)\n",
        "\n",
        "res = requests.get(url)\n",
        "\n",
        "data = res.json()\n",
        "\n",
        "temp = data['main']['temp']\n",
        "fh = (temp * 1.8) +32\n",
        "wind_speed = data['wind']['speed']\n",
        "\n",
        "latitude = data['coord']['lat']\n",
        "longitute = data['coord']['lon']\n",
        "\n",
        "description = data['weather'][0]['description']\n",
        "\n",
        "print('Temperature : ', fh, 'fahrenheit degrees')\n",
        "print('Wind Speed : {} m/s'.format(wind_speed))\n",
        "print('Latitute :  {}'.format(latitude))\n",
        "print('Longitute : {}'.format(longitute))\n",
        "print('Description : {}'.format(description))\n"
      ],
      "metadata": {
        "colab": {
          "base_uri": "https://localhost:8080/"
        },
        "id": "KVW8a5IKsoYo",
        "outputId": "8cfff229-cf4c-4c5d-a7bc-b994d1fdf7c4"
      },
      "execution_count": null,
      "outputs": [
        {
          "output_type": "stream",
          "name": "stdout",
          "text": [
            "Enter your city : Virginia\n",
            "Temperature :  41.234 fahrenheit degrees\n",
            "Wind Speed : 2.06 m/s\n",
            "Latitute :  37.5481\n",
            "Longitute : -77.4467\n",
            "Description : overcast clouds\n"
          ]
        }
      ]
    }
  ]
}