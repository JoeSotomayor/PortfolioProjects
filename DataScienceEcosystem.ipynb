{
 "cells": [
  {
   "cell_type": "markdown",
   "id": "ec5f2141-fd18-499f-b4e5-21454946d7b9",
   "metadata": {},
   "source": [
    "# Data Science Tools and Ecosystem"
   ]
  },
  {
   "cell_type": "markdown",
   "id": "0322ca11-081c-4762-a79c-ad3b066ac7fe",
   "metadata": {},
   "source": [
    "In this notebook, Data Science Tools and Ecosystem are summarized."
   ]
  },
  {
   "cell_type": "markdown",
   "id": "0d83bace-3fdc-4d86-af36-84f6c01ffc7d",
   "metadata": {},
   "source": [
    "**Objectives:**\n",
    "\n",
    "- List of popular languages that Data Scientist use\n",
    "- List of commonly used libraries used by Data Scientist\n",
    "- Simple arithmetic expression\n"
   ]
  },
  {
   "cell_type": "markdown",
   "id": "7abac2aa-6123-4dcc-b574-d2aa2cc71ff0",
   "metadata": {},
   "source": [
    "Some of the popular languages that Data Scientist use are: \n",
    "\n",
    "1. Python\n",
    "2. R\n",
    "3. Java\n",
    "4. C++"
   ]
  },
  {
   "cell_type": "markdown",
   "id": "26367150-b16c-406a-a5a5-57ce8d844504",
   "metadata": {},
   "source": [
    "Some of the commonly used libraries used by Data Scientist include:\n",
    "\n",
    "1. Pandas\n",
    "2. Numpy\n",
    "3. Seaborn \n",
    "4. Scikit-learn"
   ]
  },
  {
   "cell_type": "markdown",
   "id": "91a3091c-e607-41c0-a965-0bde189f51be",
   "metadata": {
    "tags": []
   },
   "source": [
    "|Data Science Tools |\n",
    "|------|\n",
    "|Hadoop|\n",
    "|MySQL|\n",
    "|Tableau|"
   ]
  },
  {
   "cell_type": "markdown",
   "id": "bf1ddb8f-83ad-4cc8-b14a-2711271e3f05",
   "metadata": {},
   "source": [
    "### Below are a few examples of evaluating arithmetic expressions in Python\n",
    "\n",
    "x = 5\n",
    "\n",
    "y = 7\n",
    "\n",
    "z = x + y\n",
    "\n",
    "print(z) # Output:12\n",
    "\n",
    "result = 2 * 2\n",
    "\n",
    "print(result) # Output:4"
   ]
  },
  {
   "cell_type": "code",
   "execution_count": 2,
   "id": "a640cdce-6505-42c7-8f9b-b22f937fdb6e",
   "metadata": {
    "tags": []
   },
   "outputs": [
    {
     "data": {
      "text/plain": [
       "17"
      ]
     },
     "execution_count": 2,
     "metadata": {},
     "output_type": "execute_result"
    }
   ],
   "source": [
    "# This a simple arithmetic expression to multiply then add integers\n",
    "\n",
    "(3*4)+5"
   ]
  },
  {
   "cell_type": "code",
   "execution_count": 3,
   "id": "200aca88-91c7-4d0c-8363-8dbf5542c3a5",
   "metadata": {
    "tags": []
   },
   "outputs": [
    {
     "data": {
      "text/plain": [
       "3.3333333333333335"
      ]
     },
     "execution_count": 3,
     "metadata": {},
     "output_type": "execute_result"
    }
   ],
   "source": [
    "# This will convert 200 minutes to hours by dividing by 60\n",
    "\n",
    "200/60"
   ]
  },
  {
   "cell_type": "markdown",
   "id": "e1a74577-667d-484a-b77e-88c4c927f075",
   "metadata": {},
   "source": [
    "## Author\n",
    "Joe Sotomayor"
   ]
  },
  {
   "cell_type": "code",
   "execution_count": null,
   "id": "ad24771a-3d3d-4938-97e8-9acc5ae1136c",
   "metadata": {},
   "outputs": [],
   "source": []
  }
 ],
 "metadata": {
  "kernelspec": {
   "display_name": "Python",
   "language": "python",
   "name": "conda-env-python-py"
  },
  "language_info": {
   "codemirror_mode": {
    "name": "ipython",
    "version": 3
   },
   "file_extension": ".py",
   "mimetype": "text/x-python",
   "name": "python",
   "nbconvert_exporter": "python",
   "pygments_lexer": "ipython3",
   "version": "3.7.12"
  }
 },
 "nbformat": 4,
 "nbformat_minor": 5
}
