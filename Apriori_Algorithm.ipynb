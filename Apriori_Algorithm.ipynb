{
  "nbformat": 4,
  "nbformat_minor": 0,
  "metadata": {
    "colab": {
      "provenance": [],
      "authorship_tag": "ABX9TyPIt02V63tklfj4h7Aq/1VM",
      "include_colab_link": true
    },
    "kernelspec": {
      "name": "python3",
      "display_name": "Python 3"
    },
    "language_info": {
      "name": "python"
    }
  },
  "cells": [
    {
      "cell_type": "markdown",
      "metadata": {
        "id": "view-in-github",
        "colab_type": "text"
      },
      "source": [
        "<a href=\"https://colab.research.google.com/github/JoeSotomayor/PortfolioProjects/blob/main/Apriori_Algorithm.ipynb\" target=\"_parent\"><img src=\"https://colab.research.google.com/assets/colab-badge.svg\" alt=\"Open In Colab\"/></a>"
      ]
    },
    {
      "cell_type": "code",
      "execution_count": null,
      "metadata": {
        "colab": {
          "base_uri": "https://localhost:8080/",
          "height": 331
        },
        "id": "0KLTs1ygKbgy",
        "outputId": "9b0f231b-5817-4b08-c86e-803f5f859792"
      },
      "outputs": [
        {
          "output_type": "execute_result",
          "data": {
            "text/plain": [
              "                 0                    1               2   \\\n",
              "0      citrus fruit  semi-finished bread       margarine   \n",
              "1    tropical fruit               yogurt          coffee   \n",
              "2        whole milk                  NaN             NaN   \n",
              "3         pip fruit               yogurt    cream cheese   \n",
              "4  other vegetables           whole milk  condensed milk   \n",
              "\n",
              "                         3    4    5    6    7    8    9   ...   22   23   24  \\\n",
              "0               ready soups  NaN  NaN  NaN  NaN  NaN  NaN  ...  NaN  NaN  NaN   \n",
              "1                       NaN  NaN  NaN  NaN  NaN  NaN  NaN  ...  NaN  NaN  NaN   \n",
              "2                       NaN  NaN  NaN  NaN  NaN  NaN  NaN  ...  NaN  NaN  NaN   \n",
              "3              meat spreads  NaN  NaN  NaN  NaN  NaN  NaN  ...  NaN  NaN  NaN   \n",
              "4  long life bakery product  NaN  NaN  NaN  NaN  NaN  NaN  ...  NaN  NaN  NaN   \n",
              "\n",
              "    25   26   27   28   29   30   31  \n",
              "0  NaN  NaN  NaN  NaN  NaN  NaN  NaN  \n",
              "1  NaN  NaN  NaN  NaN  NaN  NaN  NaN  \n",
              "2  NaN  NaN  NaN  NaN  NaN  NaN  NaN  \n",
              "3  NaN  NaN  NaN  NaN  NaN  NaN  NaN  \n",
              "4  NaN  NaN  NaN  NaN  NaN  NaN  NaN  \n",
              "\n",
              "[5 rows x 32 columns]"
            ],
            "text/html": [
              "\n",
              "  <div id=\"df-9df6c5e9-85a3-433a-b211-2ee45fad567d\">\n",
              "    <div class=\"colab-df-container\">\n",
              "      <div>\n",
              "<style scoped>\n",
              "    .dataframe tbody tr th:only-of-type {\n",
              "        vertical-align: middle;\n",
              "    }\n",
              "\n",
              "    .dataframe tbody tr th {\n",
              "        vertical-align: top;\n",
              "    }\n",
              "\n",
              "    .dataframe thead th {\n",
              "        text-align: right;\n",
              "    }\n",
              "</style>\n",
              "<table border=\"1\" class=\"dataframe\">\n",
              "  <thead>\n",
              "    <tr style=\"text-align: right;\">\n",
              "      <th></th>\n",
              "      <th>0</th>\n",
              "      <th>1</th>\n",
              "      <th>2</th>\n",
              "      <th>3</th>\n",
              "      <th>4</th>\n",
              "      <th>5</th>\n",
              "      <th>6</th>\n",
              "      <th>7</th>\n",
              "      <th>8</th>\n",
              "      <th>9</th>\n",
              "      <th>...</th>\n",
              "      <th>22</th>\n",
              "      <th>23</th>\n",
              "      <th>24</th>\n",
              "      <th>25</th>\n",
              "      <th>26</th>\n",
              "      <th>27</th>\n",
              "      <th>28</th>\n",
              "      <th>29</th>\n",
              "      <th>30</th>\n",
              "      <th>31</th>\n",
              "    </tr>\n",
              "  </thead>\n",
              "  <tbody>\n",
              "    <tr>\n",
              "      <th>0</th>\n",
              "      <td>citrus fruit</td>\n",
              "      <td>semi-finished bread</td>\n",
              "      <td>margarine</td>\n",
              "      <td>ready soups</td>\n",
              "      <td>NaN</td>\n",
              "      <td>NaN</td>\n",
              "      <td>NaN</td>\n",
              "      <td>NaN</td>\n",
              "      <td>NaN</td>\n",
              "      <td>NaN</td>\n",
              "      <td>...</td>\n",
              "      <td>NaN</td>\n",
              "      <td>NaN</td>\n",
              "      <td>NaN</td>\n",
              "      <td>NaN</td>\n",
              "      <td>NaN</td>\n",
              "      <td>NaN</td>\n",
              "      <td>NaN</td>\n",
              "      <td>NaN</td>\n",
              "      <td>NaN</td>\n",
              "      <td>NaN</td>\n",
              "    </tr>\n",
              "    <tr>\n",
              "      <th>1</th>\n",
              "      <td>tropical fruit</td>\n",
              "      <td>yogurt</td>\n",
              "      <td>coffee</td>\n",
              "      <td>NaN</td>\n",
              "      <td>NaN</td>\n",
              "      <td>NaN</td>\n",
              "      <td>NaN</td>\n",
              "      <td>NaN</td>\n",
              "      <td>NaN</td>\n",
              "      <td>NaN</td>\n",
              "      <td>...</td>\n",
              "      <td>NaN</td>\n",
              "      <td>NaN</td>\n",
              "      <td>NaN</td>\n",
              "      <td>NaN</td>\n",
              "      <td>NaN</td>\n",
              "      <td>NaN</td>\n",
              "      <td>NaN</td>\n",
              "      <td>NaN</td>\n",
              "      <td>NaN</td>\n",
              "      <td>NaN</td>\n",
              "    </tr>\n",
              "    <tr>\n",
              "      <th>2</th>\n",
              "      <td>whole milk</td>\n",
              "      <td>NaN</td>\n",
              "      <td>NaN</td>\n",
              "      <td>NaN</td>\n",
              "      <td>NaN</td>\n",
              "      <td>NaN</td>\n",
              "      <td>NaN</td>\n",
              "      <td>NaN</td>\n",
              "      <td>NaN</td>\n",
              "      <td>NaN</td>\n",
              "      <td>...</td>\n",
              "      <td>NaN</td>\n",
              "      <td>NaN</td>\n",
              "      <td>NaN</td>\n",
              "      <td>NaN</td>\n",
              "      <td>NaN</td>\n",
              "      <td>NaN</td>\n",
              "      <td>NaN</td>\n",
              "      <td>NaN</td>\n",
              "      <td>NaN</td>\n",
              "      <td>NaN</td>\n",
              "    </tr>\n",
              "    <tr>\n",
              "      <th>3</th>\n",
              "      <td>pip fruit</td>\n",
              "      <td>yogurt</td>\n",
              "      <td>cream cheese</td>\n",
              "      <td>meat spreads</td>\n",
              "      <td>NaN</td>\n",
              "      <td>NaN</td>\n",
              "      <td>NaN</td>\n",
              "      <td>NaN</td>\n",
              "      <td>NaN</td>\n",
              "      <td>NaN</td>\n",
              "      <td>...</td>\n",
              "      <td>NaN</td>\n",
              "      <td>NaN</td>\n",
              "      <td>NaN</td>\n",
              "      <td>NaN</td>\n",
              "      <td>NaN</td>\n",
              "      <td>NaN</td>\n",
              "      <td>NaN</td>\n",
              "      <td>NaN</td>\n",
              "      <td>NaN</td>\n",
              "      <td>NaN</td>\n",
              "    </tr>\n",
              "    <tr>\n",
              "      <th>4</th>\n",
              "      <td>other vegetables</td>\n",
              "      <td>whole milk</td>\n",
              "      <td>condensed milk</td>\n",
              "      <td>long life bakery product</td>\n",
              "      <td>NaN</td>\n",
              "      <td>NaN</td>\n",
              "      <td>NaN</td>\n",
              "      <td>NaN</td>\n",
              "      <td>NaN</td>\n",
              "      <td>NaN</td>\n",
              "      <td>...</td>\n",
              "      <td>NaN</td>\n",
              "      <td>NaN</td>\n",
              "      <td>NaN</td>\n",
              "      <td>NaN</td>\n",
              "      <td>NaN</td>\n",
              "      <td>NaN</td>\n",
              "      <td>NaN</td>\n",
              "      <td>NaN</td>\n",
              "      <td>NaN</td>\n",
              "      <td>NaN</td>\n",
              "    </tr>\n",
              "  </tbody>\n",
              "</table>\n",
              "<p>5 rows × 32 columns</p>\n",
              "</div>\n",
              "      <button class=\"colab-df-convert\" onclick=\"convertToInteractive('df-9df6c5e9-85a3-433a-b211-2ee45fad567d')\"\n",
              "              title=\"Convert this dataframe to an interactive table.\"\n",
              "              style=\"display:none;\">\n",
              "        \n",
              "  <svg xmlns=\"http://www.w3.org/2000/svg\" height=\"24px\"viewBox=\"0 0 24 24\"\n",
              "       width=\"24px\">\n",
              "    <path d=\"M0 0h24v24H0V0z\" fill=\"none\"/>\n",
              "    <path d=\"M18.56 5.44l.94 2.06.94-2.06 2.06-.94-2.06-.94-.94-2.06-.94 2.06-2.06.94zm-11 1L8.5 8.5l.94-2.06 2.06-.94-2.06-.94L8.5 2.5l-.94 2.06-2.06.94zm10 10l.94 2.06.94-2.06 2.06-.94-2.06-.94-.94-2.06-.94 2.06-2.06.94z\"/><path d=\"M17.41 7.96l-1.37-1.37c-.4-.4-.92-.59-1.43-.59-.52 0-1.04.2-1.43.59L10.3 9.45l-7.72 7.72c-.78.78-.78 2.05 0 2.83L4 21.41c.39.39.9.59 1.41.59.51 0 1.02-.2 1.41-.59l7.78-7.78 2.81-2.81c.8-.78.8-2.07 0-2.86zM5.41 20L4 18.59l7.72-7.72 1.47 1.35L5.41 20z\"/>\n",
              "  </svg>\n",
              "      </button>\n",
              "      \n",
              "  <style>\n",
              "    .colab-df-container {\n",
              "      display:flex;\n",
              "      flex-wrap:wrap;\n",
              "      gap: 12px;\n",
              "    }\n",
              "\n",
              "    .colab-df-convert {\n",
              "      background-color: #E8F0FE;\n",
              "      border: none;\n",
              "      border-radius: 50%;\n",
              "      cursor: pointer;\n",
              "      display: none;\n",
              "      fill: #1967D2;\n",
              "      height: 32px;\n",
              "      padding: 0 0 0 0;\n",
              "      width: 32px;\n",
              "    }\n",
              "\n",
              "    .colab-df-convert:hover {\n",
              "      background-color: #E2EBFA;\n",
              "      box-shadow: 0px 1px 2px rgba(60, 64, 67, 0.3), 0px 1px 3px 1px rgba(60, 64, 67, 0.15);\n",
              "      fill: #174EA6;\n",
              "    }\n",
              "\n",
              "    [theme=dark] .colab-df-convert {\n",
              "      background-color: #3B4455;\n",
              "      fill: #D2E3FC;\n",
              "    }\n",
              "\n",
              "    [theme=dark] .colab-df-convert:hover {\n",
              "      background-color: #434B5C;\n",
              "      box-shadow: 0px 1px 3px 1px rgba(0, 0, 0, 0.15);\n",
              "      filter: drop-shadow(0px 1px 2px rgba(0, 0, 0, 0.3));\n",
              "      fill: #FFFFFF;\n",
              "    }\n",
              "  </style>\n",
              "\n",
              "      <script>\n",
              "        const buttonEl =\n",
              "          document.querySelector('#df-9df6c5e9-85a3-433a-b211-2ee45fad567d button.colab-df-convert');\n",
              "        buttonEl.style.display =\n",
              "          google.colab.kernel.accessAllowed ? 'block' : 'none';\n",
              "\n",
              "        async function convertToInteractive(key) {\n",
              "          const element = document.querySelector('#df-9df6c5e9-85a3-433a-b211-2ee45fad567d');\n",
              "          const dataTable =\n",
              "            await google.colab.kernel.invokeFunction('convertToInteractive',\n",
              "                                                     [key], {});\n",
              "          if (!dataTable) return;\n",
              "\n",
              "          const docLinkHtml = 'Like what you see? Visit the ' +\n",
              "            '<a target=\"_blank\" href=https://colab.research.google.com/notebooks/data_table.ipynb>data table notebook</a>'\n",
              "            + ' to learn more about interactive tables.';\n",
              "          element.innerHTML = '';\n",
              "          dataTable['output_type'] = 'display_data';\n",
              "          await google.colab.output.renderOutput(dataTable, element);\n",
              "          const docLink = document.createElement('div');\n",
              "          docLink.innerHTML = docLinkHtml;\n",
              "          element.appendChild(docLink);\n",
              "        }\n",
              "      </script>\n",
              "    </div>\n",
              "  </div>\n",
              "  "
            ]
          },
          "metadata": {},
          "execution_count": 1
        }
      ],
      "source": [
        "# Import the file \n",
        "\n",
        "import pandas as pd\n",
        "\n",
        "df = pd.read_csv('groceries_Full_data.csv', header=None)\n",
        "\n",
        "df.head(5)"
      ]
    },
    {
      "cell_type": "code",
      "source": [
        "# Check the length of the data frame\n",
        "\n",
        "num_records = len(df)\n",
        "\n",
        "num_records"
      ],
      "metadata": {
        "colab": {
          "base_uri": "https://localhost:8080/"
        },
        "id": "xBIy9e1GK_n7",
        "outputId": "810d3a4e-8455-4f71-9152-1c227f9aec32"
      },
      "execution_count": null,
      "outputs": [
        {
          "output_type": "execute_result",
          "data": {
            "text/plain": [
              "9835"
            ]
          },
          "metadata": {},
          "execution_count": 2
        }
      ]
    },
    {
      "cell_type": "code",
      "source": [
        "# Convert the data frame into a list and remove na values\n",
        "\n",
        "records = []\n",
        "for i in range(0, num_records):\n",
        "    record = [str(df.values[i,j]) for j in range(0,32) if not pd.isnull(df.values[i,j])]\n",
        "    records.append(record)\n",
        "\n",
        "records[:10]"
      ],
      "metadata": {
        "colab": {
          "base_uri": "https://localhost:8080/"
        },
        "id": "ECHMEgeGRjq3",
        "outputId": "63e801a3-4042-4da6-bff3-05fa887b45fa"
      },
      "execution_count": null,
      "outputs": [
        {
          "output_type": "execute_result",
          "data": {
            "text/plain": [
              "[['citrus fruit', 'semi-finished bread', 'margarine', 'ready soups'],\n",
              " ['tropical fruit', 'yogurt', 'coffee'],\n",
              " ['whole milk'],\n",
              " ['pip fruit', 'yogurt', 'cream cheese', 'meat spreads'],\n",
              " ['other vegetables',\n",
              "  'whole milk',\n",
              "  'condensed milk',\n",
              "  'long life bakery product'],\n",
              " ['whole milk', 'butter', 'yogurt', 'rice', 'abrasive cleaner'],\n",
              " ['rolls/buns'],\n",
              " ['other vegetables',\n",
              "  'UHT-milk',\n",
              "  'rolls/buns',\n",
              "  'bottled beer',\n",
              "  'liquor (appetizer)'],\n",
              " ['potted plants'],\n",
              " ['whole milk', 'cereals']]"
            ]
          },
          "metadata": {},
          "execution_count": 3
        }
      ]
    },
    {
      "cell_type": "code",
      "source": [
        "# Create a 10% random sample from the list\n",
        "\n",
        "import random\n",
        "\n",
        "sample_size = int(len(records) * 0.1)\n",
        "sample = random.sample(records, sample_size)\n",
        "\n",
        "len(sample)"
      ],
      "metadata": {
        "colab": {
          "base_uri": "https://localhost:8080/"
        },
        "id": "V5UXI4jVeM1K",
        "outputId": "5254e167-d5de-4f1d-b954-a0eb3db4c1e2"
      },
      "execution_count": null,
      "outputs": [
        {
          "output_type": "execute_result",
          "data": {
            "text/plain": [
              "983"
            ]
          },
          "metadata": {},
          "execution_count": 4
        }
      ]
    },
    {
      "cell_type": "code",
      "source": [
        "!pip install apyori"
      ],
      "metadata": {
        "colab": {
          "base_uri": "https://localhost:8080/"
        },
        "id": "TIteIS-VjI6s",
        "outputId": "b72b42e3-755c-4066-b91c-a373c722ad2e"
      },
      "execution_count": null,
      "outputs": [
        {
          "output_type": "stream",
          "name": "stdout",
          "text": [
            "Looking in indexes: https://pypi.org/simple, https://us-python.pkg.dev/colab-wheels/public/simple/\n",
            "Collecting apyori\n",
            "  Downloading apyori-1.1.2.tar.gz (8.6 kB)\n",
            "  Preparing metadata (setup.py) ... \u001b[?25l\u001b[?25hdone\n",
            "Building wheels for collected packages: apyori\n",
            "  Building wheel for apyori (setup.py) ... \u001b[?25l\u001b[?25hdone\n",
            "  Created wheel for apyori: filename=apyori-1.1.2-py3-none-any.whl size=5976 sha256=1d6507b0d30b371d4b02e091af82c005f2fb7a59d543abb4be35cc910f5c3938\n",
            "  Stored in directory: /root/.cache/pip/wheels/c4/1a/79/20f55c470a50bb3702a8cb7c94d8ada15573538c7f4baebe2d\n",
            "Successfully built apyori\n",
            "Installing collected packages: apyori\n",
            "Successfully installed apyori-1.1.2\n"
          ]
        }
      ]
    },
    {
      "cell_type": "code",
      "source": [
        "# Generate association rules from the list for 3 items purchased \n",
        "\n",
        "from apyori import apriori\n",
        "\n",
        "rules = apriori(sample, min_support=0.010, min_confidence=0.2, min_lift=3)\n",
        "\n",
        "results = list(rules)\n",
        "\n",
        "three_items = [result for result in results if len(result.items) == 3]\n",
        "\n",
        "three_items[:10]\n"
      ],
      "metadata": {
        "colab": {
          "base_uri": "https://localhost:8080/"
        },
        "id": "h-Kaf8Hpqd1h",
        "outputId": "282af163-0c41-4f5c-e0c7-ca1a07895993"
      },
      "execution_count": null,
      "outputs": [
        {
          "output_type": "execute_result",
          "data": {
            "text/plain": [
              "[RelationRecord(items=frozenset({'root vegetables', 'other vegetables', 'beef'}), support=0.01017293997965412, ordered_statistics=[OrderedStatistic(items_base=frozenset({'other vegetables', 'beef'}), items_add=frozenset({'root vegetables'}), confidence=0.43478260869565216, lift=3.957326892109501)]),\n",
              " RelationRecord(items=frozenset({'other vegetables', 'beef', 'whole milk'}), support=0.014242115971515769, ordered_statistics=[OrderedStatistic(items_base=frozenset({'beef'}), items_add=frozenset({'other vegetables', 'whole milk'}), confidence=0.27450980392156865, lift=3.5044563279857397)]),\n",
              " RelationRecord(items=frozenset({'root vegetables', 'beef', 'whole milk'}), support=0.01017293997965412, ordered_statistics=[OrderedStatistic(items_base=frozenset({'beef', 'whole milk'}), items_add=frozenset({'root vegetables'}), confidence=0.4166666666666667, lift=3.7924382716049387), OrderedStatistic(items_base=frozenset({'root vegetables', 'whole milk'}), items_add=frozenset({'beef'}), confidence=0.2272727272727273, lift=4.380570409982175)]),\n",
              " RelationRecord(items=frozenset({'bottled water', 'whole milk', 'bottled beer'}), support=0.011190233977619531, ordered_statistics=[OrderedStatistic(items_base=frozenset({'whole milk', 'bottled beer'}), items_add=frozenset({'bottled water'}), confidence=0.43999999999999995, lift=3.9319999999999995), OrderedStatistic(items_base=frozenset({'whole milk', 'bottled water'}), items_add=frozenset({'bottled beer'}), confidence=0.3055555555555555, lift=3.45242656449553)]),\n",
              " RelationRecord(items=frozenset({'whole milk', 'yogurt', 'bottled beer'}), support=0.011190233977619531, ordered_statistics=[OrderedStatistic(items_base=frozenset({'whole milk', 'bottled beer'}), items_add=frozenset({'yogurt'}), confidence=0.43999999999999995, lift=3.327076923076923), OrderedStatistic(items_base=frozenset({'yogurt', 'bottled beer'}), items_add=frozenset({'whole milk'}), confidence=0.7857142857142856, lift=3.258890898131404)]),\n",
              " RelationRecord(items=frozenset({'soda', 'other vegetables', 'bottled water'}), support=0.013224821973550356, ordered_statistics=[OrderedStatistic(items_base=frozenset({'soda', 'other vegetables'}), items_add=frozenset({'bottled water'}), confidence=0.37142857142857144, lift=3.3192207792207795)]),\n",
              " RelationRecord(items=frozenset({'soda', 'yogurt', 'bottled water'}), support=0.011190233977619531, ordered_statistics=[OrderedStatistic(items_base=frozenset({'yogurt', 'bottled water'}), items_add=frozenset({'soda'}), confidence=0.5238095238095237, lift=3.046773739081431), OrderedStatistic(items_base=frozenset({'soda', 'yogurt'}), items_add=frozenset({'bottled water'}), confidence=0.3928571428571428, lift=3.5107142857142852)]),\n",
              " RelationRecord(items=frozenset({'tropical fruit', 'yogurt', 'bottled water'}), support=0.01017293997965412, ordered_statistics=[OrderedStatistic(items_base=frozenset({'tropical fruit', 'bottled water'}), items_add=frozenset({'yogurt'}), confidence=0.43478260869565216, lift=3.287625418060201), OrderedStatistic(items_base=frozenset({'yogurt', 'bottled water'}), items_add=frozenset({'tropical fruit'}), confidence=0.4761904761904762, lift=4.2170742170742175)]),\n",
              " RelationRecord(items=frozenset({'root vegetables', 'other vegetables', 'citrus fruit'}), support=0.01017293997965412, ordered_statistics=[OrderedStatistic(items_base=frozenset({'root vegetables', 'citrus fruit'}), items_add=frozenset({'other vegetables'}), confidence=0.625, lift=3.1668814432989687)]),\n",
              " RelationRecord(items=frozenset({'tropical fruit', 'other vegetables', 'citrus fruit'}), support=0.011190233977619531, ordered_statistics=[OrderedStatistic(items_base=frozenset({'other vegetables', 'citrus fruit'}), items_add=frozenset({'tropical fruit'}), confidence=0.3548387096774194, lift=3.1424004649811104), OrderedStatistic(items_base=frozenset({'tropical fruit', 'other vegetables'}), items_add=frozenset({'citrus fruit'}), confidence=0.27499999999999997, lift=3.7545138888888885)])]"
            ]
          },
          "metadata": {},
          "execution_count": 6
        }
      ]
    },
    {
      "cell_type": "code",
      "source": [
        "# Find the three items most often purchased together\n",
        "\n",
        "three_items.sort(key=lambda rule: rule.support, reverse=True)\n",
        "\n",
        "top_three = list(three_items[0].items)\n",
        "\n",
        "print(top_three)"
      ],
      "metadata": {
        "colab": {
          "base_uri": "https://localhost:8080/"
        },
        "id": "PsDtaVMXlVMH",
        "outputId": "334f5656-12d5-4f0a-a713-d909ef2c1caa"
      },
      "execution_count": null,
      "outputs": [
        {
          "output_type": "stream",
          "name": "stdout",
          "text": [
            "['tropical fruit', 'other vegetables', 'yogurt']\n"
          ]
        }
      ]
    }
  ]
}